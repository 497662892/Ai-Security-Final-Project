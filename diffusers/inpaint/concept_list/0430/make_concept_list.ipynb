{
 "cells": [
  {
   "cell_type": "code",
   "execution_count": 4,
   "metadata": {},
   "outputs": [],
   "source": [
    "import json\n",
    "import os\n",
    "import numpy as np\n",
    "import pandas as pd\n",
    "import random"
   ]
  },
  {
   "cell_type": "code",
   "execution_count": 5,
   "metadata": {},
   "outputs": [],
   "source": [
    "base_path = \"/home/majiajian/storage/datasets/polyp/total_for_gen\"\n",
    "instance_prompts = [ \"An endoscopic image of a polyp.\"]\n",
    "instance_data_dir = [\"/home/majiajian/storage/datasets/polyp/total_for_gen/images\"]\n",
    "instance_bbox_dir = [\"/home/majiajian/storage/datasets/polyp/total_for_gen/bboxs\"]\n",
    "instance_mask_dir = [\"/home/majiajian/storage/datasets/polyp/total_for_gen/masks\"]\n",
    "\n",
    "\n",
    "\n",
    "def get_concept_list(base_path):\n",
    "    concept_list = []\n",
    "    for i in range(len(instance_prompts)):\n",
    "        concetp = {}\n",
    "\n",
    "        concetp[\"instance_data_dir\"] = instance_data_dir[i]\n",
    "        concetp[\"instance_prompt\"] = instance_prompts[i]\n",
    "        concetp[\"instance_bbox_dir\"] = instance_bbox_dir[i]\n",
    "        concetp[\"instance_mask_dir\"] = instance_mask_dir[i]\n",
    "\n",
    "        concept_list.append(concetp)\n",
    "    return concept_list\n",
    "\n",
    "concept_list = get_concept_list(base_path)\n",
    "with open(\"concept_list_1117.json\", \"w\") as f:\n",
    "    json.dump(concept_list, f)"
   ]
  },
  {
   "cell_type": "code",
   "execution_count": 1,
   "metadata": {},
   "outputs": [],
   "source": [
    "# make validation list \n",
    "import json\n",
    "validation_list = {}\n",
    "\n",
    "# the validation image (use for as the reference)\n",
    "validation_image = [\n",
    "    \"/home/user01/majiajian/data/polyp/SUN-SEG_10/TrainDataset_10/images/case2_2/case_M_20181003094031_0U62363100354631_1_001_002-1_a1_ayy_image0201.jpg\",\n",
    "    \"/home/user01/majiajian/data/polyp/SUN-SEG_10/TrainDataset_10/images/case20_10/case_M_20181010094822_0U62363101085921_1_003_001-1_a13_ayy_image0151.jpg\",\n",
    "    \"/home/user01/majiajian/data/polyp/SUN-SEG_10/TrainDataset_10/images/case18_2/case_M_20181004130627_0U62365100475026_1_002_001-1_a5_ayy_image0031.jpg\",\n",
    "    \"/home/user01/majiajian/data/polyp/SUN-SEG_10/TrainDataset_10/images/case17_2/case_M_20181001140915_0U62366100164014_1_001_001-1_a7_ayy_image0011.jpg\",\n",
    "    \"/home/user01/majiajian/data/polyp/SUN-SEG_10/TrainDataset_10/images/case6_1/case_M_20181015101337_0U62363101576536_1_005_002-1_a18_ayy_image0046.jpg\"\n",
    "]\n",
    "\n",
    "# the mask of validation image\n",
    "validation_control = [\n",
    "    \"/home/user01/majiajian/data/polyp/SUN-SEG_10/TrainDataset_10/masks/case2_2/case_M_20181003094031_0U62363100354631_1_001_002-1_a1_ayy_image0201.png\",\n",
    "    \"/home/user01/majiajian/data/polyp/SUN-SEG_10/TrainDataset_10/masks/case20_10/case_M_20181010094822_0U62363101085921_1_003_001-1_a13_ayy_image0151.png\",\n",
    "    \"/home/user01/majiajian/data/polyp/SUN-SEG_10/TrainDataset_10/masks/case18_2/case_M_20181004130627_0U62365100475026_1_002_001-1_a5_ayy_image0031.png\",\n",
    "    \"/home/user01/majiajian/data/polyp/SUN-SEG_10/TrainDataset_10/masks/case17_2/case_M_20181001140915_0U62366100164014_1_001_001-1_a7_ayy_image0011.png\",\n",
    "    \"/home/user01/majiajian/data/polyp/SUN-SEG_10/TrainDataset_10/masks/case6_1/case_M_20181015101337_0U62363101576536_1_005_002-1_a18_ayy_image0046.png\"\n",
    "]\n",
    "\n",
    "# the background image\n",
    "validation_background = [\n",
    "    \"/home/user01/majiajian/data/polyp/negatives/0_16_frame_3125.jpg\",\n",
    "    \"/home/user01/majiajian/data/polyp/negatives/0_2_frame_2550.jpg\",\n",
    "    \"/home/user01/majiajian/data/polyp/negatives/0_16_frame_325.jpg\",\n",
    "    \"/home/user01/majiajian/data/polyp/negatives/case_M_20181001094710_0U62363100131210_1_006_001-1_Negative_ayy_image009717.jpg\",\n",
    "    \"/home/user01/majiajian/data/polyp/negatives/case_M_20181109101724_0U62368110954624_1_004_001-1_Negative_ayy_image006358.jpg\",\n",
    "]\n",
    "\n",
    "# the prompt of validation image\n",
    "validation_prompt = [\n",
    "    \"an endoscopic image of a polyp\",\n",
    "    \"an endoscopic image of a polyp\",\n",
    "    \"an endoscopic image of a polyp\",\n",
    "    \"an endoscopic image of a polyp\",\n",
    "    \"an endoscopic image of a polyp\",\n",
    "]\n",
    "\n",
    "num_validation_images = 2\n",
    "\n",
    "validation_list[\"validation_image\"] = validation_image\n",
    "validation_list[\"validation_mask\"] = validation_control\n",
    "validation_list[\"validation_background\"] = validation_background\n",
    "validation_list[\"validation_prompt\"] = validation_prompt\n",
    "validation_list[\"num_validation_images\"] = num_validation_images\n",
    "\n",
    "with open(\"validation_list_0430.json\", \"w\") as f:\n",
    "    json.dump(validation_list, f)"
   ]
  }
 ],
 "metadata": {
  "kernelspec": {
   "display_name": "diffuser",
   "language": "python",
   "name": "python3"
  },
  "language_info": {
   "codemirror_mode": {
    "name": "ipython",
    "version": 3
   },
   "file_extension": ".py",
   "mimetype": "text/x-python",
   "name": "python",
   "nbconvert_exporter": "python",
   "pygments_lexer": "ipython3",
   "version": "3.10.13"
  }
 },
 "nbformat": 4,
 "nbformat_minor": 2
}
